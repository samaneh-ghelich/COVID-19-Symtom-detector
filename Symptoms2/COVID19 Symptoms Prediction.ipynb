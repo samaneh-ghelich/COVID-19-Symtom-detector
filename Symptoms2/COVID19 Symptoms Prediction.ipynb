{
 "cells": [
  {
   "cell_type": "markdown",
   "metadata": {},
   "source": [
    "### Importing the packages"
   ]
  },
  {
   "cell_type": "code",
   "execution_count": 1,
   "metadata": {
    "scrolled": true
   },
   "outputs": [
    {
     "name": "stdout",
     "output_type": "stream",
     "text": [
      "The scikit-learn version is 0.23.2.\n"
     ]
    }
   ],
   "source": [
    "#import numpy as np\n",
    "import pandas as pd\n",
    "import seaborn as sns\n",
    "import pickle\n",
    "import matplotlib.pyplot as plt\n",
    "from sklearn.metrics import accuracy_score, plot_roc_curve\n",
    "from sklearn import metrics\n",
    "import sklearn\n",
    "%matplotlib inline\n",
    "import warnings\n",
    "warnings.simplefilter('ignore')\n",
    "from sklearn.linear_model import LogisticRegression\n",
    "from sklearn.ensemble import RandomForestClassifier\n",
    "from sklearn.tree import DecisionTreeClassifier\n",
    "from sklearn.svm import LinearSVC\n",
    "print('The scikit-learn version is {}.'.format(sklearn.__version__))\n"
   ]
  },
  {
   "cell_type": "markdown",
   "metadata": {},
   "source": [
    "### Importing the dataset"
   ]
  },
  {
   "cell_type": "code",
   "execution_count": 2,
   "metadata": {},
   "outputs": [],
   "source": [
    "df = pd.read_csv('COVID-19/covid_final_data.csv')"
   ]
  },
  {
   "cell_type": "markdown",
   "metadata": {},
   "source": [
    "### Dataset Attributes\n"
   ]
  },
  {
   "cell_type": "code",
   "execution_count": 3,
   "metadata": {},
   "outputs": [
    {
     "data": {
      "text/plain": [
       "Index(['AGE', 'GENDER', 'FEVER', 'DRY-COUGH', 'FATIGUE', 'PAINS', 'ANOSMIA',\n",
       "       'SHORTNESS_OF_BREATH', 'RUNNY_NOSE', 'HEADACHE', 'DIARRHEA', 'CHILLS',\n",
       "       'LIVES_IN_AFFECTED_AREA', 'NAUSEA', 'HIGH-TEMPERTURE',\n",
       "       'COVID19_OUTPUT'],\n",
       "      dtype='object')"
      ]
     },
     "execution_count": 3,
     "metadata": {},
     "output_type": "execute_result"
    }
   ],
   "source": [
    "df.columns"
   ]
  },
  {
   "cell_type": "markdown",
   "metadata": {},
   "source": [
    "**Patient's Attribute**\n",
    "\n",
    "```\n",
    "1. Age: Patient's Age\n",
    "2. Gender: Male(1) or Female (0)\n",
    "3. Fever: Yes(1) or No(0)\n",
    "4. Cough: Yes(1) or No(0)\n",
    "5. Fatigue: Yes(1) or No(0)\n",
    "6. Pains: Yes(1) or No(0)\n",
    "7. Nasal Congestion: Yes(1) or No(0)\n",
    "8. Shortness of Breath: Yes(1) or No(0)\n",
    "9. Runny Nose: Yes(1) or No(0)\n",
    "10. Sore Throat: Yes(1) or No(0)\n",
    "11. Diarrhea: Yes(1) or No(0)\n",
    "12. Chills: Yes(1) or No(0)\n",
    "13. Headache: Yes(1) or No(0)\n",
    "14. Vomiting: Yes(1) or No(0)\n",
    "15. Lives in affected area: Yes(1) or No(0)\n",
    "---------------------------------------------\n",
    "16. Covid Output: Yes(1) or No(0)\n",
    "```"
   ]
  },
  {
   "cell_type": "code",
   "execution_count": 4,
   "metadata": {},
   "outputs": [
    {
     "data": {
      "text/html": [
       "<div>\n",
       "<style scoped>\n",
       "    .dataframe tbody tr th:only-of-type {\n",
       "        vertical-align: middle;\n",
       "    }\n",
       "\n",
       "    .dataframe tbody tr th {\n",
       "        vertical-align: top;\n",
       "    }\n",
       "\n",
       "    .dataframe thead th {\n",
       "        text-align: right;\n",
       "    }\n",
       "</style>\n",
       "<table border=\"1\" class=\"dataframe\">\n",
       "  <thead>\n",
       "    <tr style=\"text-align: right;\">\n",
       "      <th></th>\n",
       "      <th>AGE</th>\n",
       "      <th>GENDER</th>\n",
       "      <th>FEVER</th>\n",
       "      <th>DRY-COUGH</th>\n",
       "      <th>FATIGUE</th>\n",
       "      <th>PAINS</th>\n",
       "      <th>ANOSMIA</th>\n",
       "      <th>SHORTNESS_OF_BREATH</th>\n",
       "      <th>RUNNY_NOSE</th>\n",
       "      <th>HEADACHE</th>\n",
       "      <th>DIARRHEA</th>\n",
       "      <th>CHILLS</th>\n",
       "      <th>LIVES_IN_AFFECTED_AREA</th>\n",
       "      <th>NAUSEA</th>\n",
       "      <th>HIGH-TEMPERTURE</th>\n",
       "      <th>COVID19_OUTPUT</th>\n",
       "    </tr>\n",
       "  </thead>\n",
       "  <tbody>\n",
       "    <tr>\n",
       "      <th>0</th>\n",
       "      <td>19</td>\n",
       "      <td>0</td>\n",
       "      <td>1</td>\n",
       "      <td>1</td>\n",
       "      <td>0</td>\n",
       "      <td>0</td>\n",
       "      <td>0</td>\n",
       "      <td>0</td>\n",
       "      <td>0</td>\n",
       "      <td>1</td>\n",
       "      <td>0</td>\n",
       "      <td>0</td>\n",
       "      <td>1</td>\n",
       "      <td>0</td>\n",
       "      <td>0</td>\n",
       "      <td>1</td>\n",
       "    </tr>\n",
       "    <tr>\n",
       "      <th>1</th>\n",
       "      <td>28</td>\n",
       "      <td>1</td>\n",
       "      <td>1</td>\n",
       "      <td>0</td>\n",
       "      <td>0</td>\n",
       "      <td>0</td>\n",
       "      <td>0</td>\n",
       "      <td>0</td>\n",
       "      <td>0</td>\n",
       "      <td>0</td>\n",
       "      <td>0</td>\n",
       "      <td>0</td>\n",
       "      <td>1</td>\n",
       "      <td>0</td>\n",
       "      <td>1</td>\n",
       "      <td>1</td>\n",
       "    </tr>\n",
       "    <tr>\n",
       "      <th>2</th>\n",
       "      <td>35</td>\n",
       "      <td>0</td>\n",
       "      <td>1</td>\n",
       "      <td>1</td>\n",
       "      <td>0</td>\n",
       "      <td>0</td>\n",
       "      <td>0</td>\n",
       "      <td>0</td>\n",
       "      <td>0</td>\n",
       "      <td>0</td>\n",
       "      <td>0</td>\n",
       "      <td>0</td>\n",
       "      <td>1</td>\n",
       "      <td>0</td>\n",
       "      <td>0</td>\n",
       "      <td>1</td>\n",
       "    </tr>\n",
       "    <tr>\n",
       "      <th>3</th>\n",
       "      <td>33</td>\n",
       "      <td>0</td>\n",
       "      <td>1</td>\n",
       "      <td>0</td>\n",
       "      <td>0</td>\n",
       "      <td>0</td>\n",
       "      <td>0</td>\n",
       "      <td>0</td>\n",
       "      <td>0</td>\n",
       "      <td>0</td>\n",
       "      <td>0</td>\n",
       "      <td>0</td>\n",
       "      <td>1</td>\n",
       "      <td>0</td>\n",
       "      <td>0</td>\n",
       "      <td>1</td>\n",
       "    </tr>\n",
       "    <tr>\n",
       "      <th>4</th>\n",
       "      <td>33</td>\n",
       "      <td>0</td>\n",
       "      <td>1</td>\n",
       "      <td>0</td>\n",
       "      <td>0</td>\n",
       "      <td>0</td>\n",
       "      <td>0</td>\n",
       "      <td>0</td>\n",
       "      <td>0</td>\n",
       "      <td>0</td>\n",
       "      <td>0</td>\n",
       "      <td>0</td>\n",
       "      <td>1</td>\n",
       "      <td>0</td>\n",
       "      <td>0</td>\n",
       "      <td>1</td>\n",
       "    </tr>\n",
       "  </tbody>\n",
       "</table>\n",
       "</div>"
      ],
      "text/plain": [
       "   AGE  GENDER  FEVER  DRY-COUGH  FATIGUE  PAINS  ANOSMIA  \\\n",
       "0   19       0      1          1        0      0        0   \n",
       "1   28       1      1          0        0      0        0   \n",
       "2   35       0      1          1        0      0        0   \n",
       "3   33       0      1          0        0      0        0   \n",
       "4   33       0      1          0        0      0        0   \n",
       "\n",
       "   SHORTNESS_OF_BREATH  RUNNY_NOSE  HEADACHE  DIARRHEA  CHILLS  \\\n",
       "0                    0           0         1         0       0   \n",
       "1                    0           0         0         0       0   \n",
       "2                    0           0         0         0       0   \n",
       "3                    0           0         0         0       0   \n",
       "4                    0           0         0         0       0   \n",
       "\n",
       "   LIVES_IN_AFFECTED_AREA  NAUSEA  HIGH-TEMPERTURE  COVID19_OUTPUT  \n",
       "0                       1       0                0               1  \n",
       "1                       1       0                1               1  \n",
       "2                       1       0                0               1  \n",
       "3                       1       0                0               1  \n",
       "4                       1       0                0               1  "
      ]
     },
     "execution_count": 4,
     "metadata": {},
     "output_type": "execute_result"
    }
   ],
   "source": [
    "df.head(5)"
   ]
  },
  {
   "cell_type": "code",
   "execution_count": 5,
   "metadata": {},
   "outputs": [],
   "source": [
    "Symptom_Count = df.drop(['AGE', 'GENDER','COVID19_OUTPUT'],axis=1).sum()"
   ]
  },
  {
   "cell_type": "code",
   "execution_count": 6,
   "metadata": {
    "scrolled": true
   },
   "outputs": [
    {
     "data": {
      "text/plain": [
       "FEVER                     745\n",
       "DRY-COUGH                 463\n",
       "FATIGUE                    64\n",
       "PAINS                      50\n",
       "ANOSMIA                    57\n",
       "SHORTNESS_OF_BREATH        66\n",
       "RUNNY_NOSE                 67\n",
       "HEADACHE                  142\n",
       "DIARRHEA                   32\n",
       "CHILLS                     51\n",
       "LIVES_IN_AFFECTED_AREA    238\n",
       "NAUSEA                     37\n",
       "HIGH-TEMPERTURE           595\n",
       "dtype: int64"
      ]
     },
     "execution_count": 6,
     "metadata": {},
     "output_type": "execute_result"
    }
   ],
   "source": [
    "Symptom_Count"
   ]
  },
  {
   "cell_type": "markdown",
   "metadata": {},
   "source": [
    "### Confusion Matrix"
   ]
  },
  {
   "cell_type": "code",
   "execution_count": 7,
   "metadata": {
    "scrolled": true
   },
   "outputs": [
    {
     "data": {
      "text/html": [
       "<div>\n",
       "<style scoped>\n",
       "    .dataframe tbody tr th:only-of-type {\n",
       "        vertical-align: middle;\n",
       "    }\n",
       "\n",
       "    .dataframe tbody tr th {\n",
       "        vertical-align: top;\n",
       "    }\n",
       "\n",
       "    .dataframe thead th {\n",
       "        text-align: right;\n",
       "    }\n",
       "</style>\n",
       "<table border=\"1\" class=\"dataframe\">\n",
       "  <thead>\n",
       "    <tr style=\"text-align: right;\">\n",
       "      <th></th>\n",
       "      <th>AGE</th>\n",
       "      <th>GENDER</th>\n",
       "      <th>FEVER</th>\n",
       "      <th>DRY-COUGH</th>\n",
       "      <th>FATIGUE</th>\n",
       "      <th>PAINS</th>\n",
       "      <th>ANOSMIA</th>\n",
       "      <th>SHORTNESS_OF_BREATH</th>\n",
       "      <th>RUNNY_NOSE</th>\n",
       "      <th>HEADACHE</th>\n",
       "      <th>DIARRHEA</th>\n",
       "      <th>CHILLS</th>\n",
       "      <th>LIVES_IN_AFFECTED_AREA</th>\n",
       "      <th>NAUSEA</th>\n",
       "      <th>HIGH-TEMPERTURE</th>\n",
       "      <th>COVID19_OUTPUT</th>\n",
       "    </tr>\n",
       "  </thead>\n",
       "  <tbody>\n",
       "    <tr>\n",
       "      <th>AGE</th>\n",
       "      <td>1.000000</td>\n",
       "      <td>0.074382</td>\n",
       "      <td>0.022943</td>\n",
       "      <td>0.047645</td>\n",
       "      <td>0.097993</td>\n",
       "      <td>0.081185</td>\n",
       "      <td>0.130204</td>\n",
       "      <td>-0.031658</td>\n",
       "      <td>-0.021785</td>\n",
       "      <td>-0.105755</td>\n",
       "      <td>-0.048191</td>\n",
       "      <td>0.023023</td>\n",
       "      <td>0.016395</td>\n",
       "      <td>0.022586</td>\n",
       "      <td>-0.000310</td>\n",
       "      <td>0.006081</td>\n",
       "    </tr>\n",
       "    <tr>\n",
       "      <th>GENDER</th>\n",
       "      <td>0.074382</td>\n",
       "      <td>1.000000</td>\n",
       "      <td>0.053795</td>\n",
       "      <td>0.003112</td>\n",
       "      <td>-0.048996</td>\n",
       "      <td>-0.010474</td>\n",
       "      <td>0.011494</td>\n",
       "      <td>-0.016308</td>\n",
       "      <td>-0.052529</td>\n",
       "      <td>-0.062823</td>\n",
       "      <td>0.017050</td>\n",
       "      <td>-0.014599</td>\n",
       "      <td>-0.022730</td>\n",
       "      <td>0.025970</td>\n",
       "      <td>0.212699</td>\n",
       "      <td>0.013788</td>\n",
       "    </tr>\n",
       "    <tr>\n",
       "      <th>FEVER</th>\n",
       "      <td>0.022943</td>\n",
       "      <td>0.053795</td>\n",
       "      <td>1.000000</td>\n",
       "      <td>0.191755</td>\n",
       "      <td>-0.005902</td>\n",
       "      <td>0.060148</td>\n",
       "      <td>0.004159</td>\n",
       "      <td>-0.123018</td>\n",
       "      <td>0.010423</td>\n",
       "      <td>0.001083</td>\n",
       "      <td>0.009738</td>\n",
       "      <td>-0.017796</td>\n",
       "      <td>-0.068020</td>\n",
       "      <td>-0.020995</td>\n",
       "      <td>0.187202</td>\n",
       "      <td>0.529185</td>\n",
       "    </tr>\n",
       "    <tr>\n",
       "      <th>DRY-COUGH</th>\n",
       "      <td>0.047645</td>\n",
       "      <td>0.003112</td>\n",
       "      <td>0.191755</td>\n",
       "      <td>1.000000</td>\n",
       "      <td>-0.027305</td>\n",
       "      <td>0.052422</td>\n",
       "      <td>0.070611</td>\n",
       "      <td>-0.080566</td>\n",
       "      <td>0.029718</td>\n",
       "      <td>0.019849</td>\n",
       "      <td>0.020887</td>\n",
       "      <td>-0.030242</td>\n",
       "      <td>0.056511</td>\n",
       "      <td>0.014351</td>\n",
       "      <td>-0.030356</td>\n",
       "      <td>0.218632</td>\n",
       "    </tr>\n",
       "    <tr>\n",
       "      <th>FATIGUE</th>\n",
       "      <td>0.097993</td>\n",
       "      <td>-0.048996</td>\n",
       "      <td>-0.005902</td>\n",
       "      <td>-0.027305</td>\n",
       "      <td>1.000000</td>\n",
       "      <td>0.015797</td>\n",
       "      <td>-0.007595</td>\n",
       "      <td>-0.045449</td>\n",
       "      <td>-0.029837</td>\n",
       "      <td>0.010381</td>\n",
       "      <td>0.037218</td>\n",
       "      <td>0.033071</td>\n",
       "      <td>0.007328</td>\n",
       "      <td>0.008849</td>\n",
       "      <td>-0.016685</td>\n",
       "      <td>0.070014</td>\n",
       "    </tr>\n",
       "    <tr>\n",
       "      <th>PAINS</th>\n",
       "      <td>0.081185</td>\n",
       "      <td>-0.010474</td>\n",
       "      <td>0.060148</td>\n",
       "      <td>0.052422</td>\n",
       "      <td>0.015797</td>\n",
       "      <td>1.000000</td>\n",
       "      <td>0.040673</td>\n",
       "      <td>0.014355</td>\n",
       "      <td>0.031633</td>\n",
       "      <td>-0.009506</td>\n",
       "      <td>0.023900</td>\n",
       "      <td>-0.034958</td>\n",
       "      <td>-0.030098</td>\n",
       "      <td>-0.005686</td>\n",
       "      <td>-0.037240</td>\n",
       "      <td>0.057166</td>\n",
       "    </tr>\n",
       "    <tr>\n",
       "      <th>ANOSMIA</th>\n",
       "      <td>0.130204</td>\n",
       "      <td>0.011494</td>\n",
       "      <td>0.004159</td>\n",
       "      <td>0.070611</td>\n",
       "      <td>-0.007595</td>\n",
       "      <td>0.040673</td>\n",
       "      <td>1.000000</td>\n",
       "      <td>-0.042787</td>\n",
       "      <td>-0.043125</td>\n",
       "      <td>-0.040672</td>\n",
       "      <td>0.042957</td>\n",
       "      <td>0.020311</td>\n",
       "      <td>-0.048444</td>\n",
       "      <td>-0.009234</td>\n",
       "      <td>0.066466</td>\n",
       "      <td>0.077812</td>\n",
       "    </tr>\n",
       "    <tr>\n",
       "      <th>SHORTNESS_OF_BREATH</th>\n",
       "      <td>-0.031658</td>\n",
       "      <td>-0.016308</td>\n",
       "      <td>-0.123018</td>\n",
       "      <td>-0.080566</td>\n",
       "      <td>-0.045449</td>\n",
       "      <td>0.014355</td>\n",
       "      <td>-0.042787</td>\n",
       "      <td>1.000000</td>\n",
       "      <td>-0.046551</td>\n",
       "      <td>-0.047411</td>\n",
       "      <td>-0.009285</td>\n",
       "      <td>-0.022450</td>\n",
       "      <td>-0.093514</td>\n",
       "      <td>-0.034236</td>\n",
       "      <td>0.024829</td>\n",
       "      <td>0.016807</td>\n",
       "    </tr>\n",
       "    <tr>\n",
       "      <th>RUNNY_NOSE</th>\n",
       "      <td>-0.021785</td>\n",
       "      <td>-0.052529</td>\n",
       "      <td>0.010423</td>\n",
       "      <td>0.029718</td>\n",
       "      <td>-0.029837</td>\n",
       "      <td>0.031633</td>\n",
       "      <td>-0.043125</td>\n",
       "      <td>-0.046551</td>\n",
       "      <td>1.000000</td>\n",
       "      <td>0.062148</td>\n",
       "      <td>0.146668</td>\n",
       "      <td>-0.040708</td>\n",
       "      <td>-0.005887</td>\n",
       "      <td>0.007113</td>\n",
       "      <td>-0.017605</td>\n",
       "      <td>0.013413</td>\n",
       "    </tr>\n",
       "    <tr>\n",
       "      <th>HEADACHE</th>\n",
       "      <td>-0.105755</td>\n",
       "      <td>-0.062823</td>\n",
       "      <td>0.001083</td>\n",
       "      <td>0.019849</td>\n",
       "      <td>0.010381</td>\n",
       "      <td>-0.009506</td>\n",
       "      <td>-0.040672</td>\n",
       "      <td>-0.047411</td>\n",
       "      <td>0.062148</td>\n",
       "      <td>1.000000</td>\n",
       "      <td>0.015141</td>\n",
       "      <td>0.064801</td>\n",
       "      <td>0.052343</td>\n",
       "      <td>0.065870</td>\n",
       "      <td>-0.030366</td>\n",
       "      <td>-0.008681</td>\n",
       "    </tr>\n",
       "    <tr>\n",
       "      <th>DIARRHEA</th>\n",
       "      <td>-0.048191</td>\n",
       "      <td>0.017050</td>\n",
       "      <td>0.009738</td>\n",
       "      <td>0.020887</td>\n",
       "      <td>0.037218</td>\n",
       "      <td>0.023900</td>\n",
       "      <td>0.042957</td>\n",
       "      <td>-0.009285</td>\n",
       "      <td>0.146668</td>\n",
       "      <td>0.015141</td>\n",
       "      <td>1.000000</td>\n",
       "      <td>0.048589</td>\n",
       "      <td>-0.026456</td>\n",
       "      <td>0.125182</td>\n",
       "      <td>0.021379</td>\n",
       "      <td>0.044341</td>\n",
       "    </tr>\n",
       "    <tr>\n",
       "      <th>CHILLS</th>\n",
       "      <td>0.023023</td>\n",
       "      <td>-0.014599</td>\n",
       "      <td>-0.017796</td>\n",
       "      <td>-0.030242</td>\n",
       "      <td>0.033071</td>\n",
       "      <td>-0.034958</td>\n",
       "      <td>0.020311</td>\n",
       "      <td>-0.022450</td>\n",
       "      <td>-0.040708</td>\n",
       "      <td>0.064801</td>\n",
       "      <td>0.048589</td>\n",
       "      <td>1.000000</td>\n",
       "      <td>0.049161</td>\n",
       "      <td>0.017500</td>\n",
       "      <td>-0.009769</td>\n",
       "      <td>0.016038</td>\n",
       "    </tr>\n",
       "    <tr>\n",
       "      <th>LIVES_IN_AFFECTED_AREA</th>\n",
       "      <td>0.016395</td>\n",
       "      <td>-0.022730</td>\n",
       "      <td>-0.068020</td>\n",
       "      <td>0.056511</td>\n",
       "      <td>0.007328</td>\n",
       "      <td>-0.030098</td>\n",
       "      <td>-0.048444</td>\n",
       "      <td>-0.093514</td>\n",
       "      <td>-0.005887</td>\n",
       "      <td>0.052343</td>\n",
       "      <td>-0.026456</td>\n",
       "      <td>0.049161</td>\n",
       "      <td>1.000000</td>\n",
       "      <td>0.083667</td>\n",
       "      <td>-0.282833</td>\n",
       "      <td>-0.272482</td>\n",
       "    </tr>\n",
       "    <tr>\n",
       "      <th>NAUSEA</th>\n",
       "      <td>0.022586</td>\n",
       "      <td>0.025970</td>\n",
       "      <td>-0.020995</td>\n",
       "      <td>0.014351</td>\n",
       "      <td>0.008849</td>\n",
       "      <td>-0.005686</td>\n",
       "      <td>-0.009234</td>\n",
       "      <td>-0.034236</td>\n",
       "      <td>0.007113</td>\n",
       "      <td>0.065870</td>\n",
       "      <td>0.125182</td>\n",
       "      <td>0.017500</td>\n",
       "      <td>0.083667</td>\n",
       "      <td>1.000000</td>\n",
       "      <td>-0.006384</td>\n",
       "      <td>-0.066612</td>\n",
       "    </tr>\n",
       "    <tr>\n",
       "      <th>HIGH-TEMPERTURE</th>\n",
       "      <td>-0.000310</td>\n",
       "      <td>0.212699</td>\n",
       "      <td>0.187202</td>\n",
       "      <td>-0.030356</td>\n",
       "      <td>-0.016685</td>\n",
       "      <td>-0.037240</td>\n",
       "      <td>0.066466</td>\n",
       "      <td>0.024829</td>\n",
       "      <td>-0.017605</td>\n",
       "      <td>-0.030366</td>\n",
       "      <td>0.021379</td>\n",
       "      <td>-0.009769</td>\n",
       "      <td>-0.282833</td>\n",
       "      <td>-0.006384</td>\n",
       "      <td>1.000000</td>\n",
       "      <td>0.302627</td>\n",
       "    </tr>\n",
       "    <tr>\n",
       "      <th>COVID19_OUTPUT</th>\n",
       "      <td>0.006081</td>\n",
       "      <td>0.013788</td>\n",
       "      <td>0.529185</td>\n",
       "      <td>0.218632</td>\n",
       "      <td>0.070014</td>\n",
       "      <td>0.057166</td>\n",
       "      <td>0.077812</td>\n",
       "      <td>0.016807</td>\n",
       "      <td>0.013413</td>\n",
       "      <td>-0.008681</td>\n",
       "      <td>0.044341</td>\n",
       "      <td>0.016038</td>\n",
       "      <td>-0.272482</td>\n",
       "      <td>-0.066612</td>\n",
       "      <td>0.302627</td>\n",
       "      <td>1.000000</td>\n",
       "    </tr>\n",
       "  </tbody>\n",
       "</table>\n",
       "</div>"
      ],
      "text/plain": [
       "                             AGE    GENDER     FEVER  DRY-COUGH   FATIGUE  \\\n",
       "AGE                     1.000000  0.074382  0.022943   0.047645  0.097993   \n",
       "GENDER                  0.074382  1.000000  0.053795   0.003112 -0.048996   \n",
       "FEVER                   0.022943  0.053795  1.000000   0.191755 -0.005902   \n",
       "DRY-COUGH               0.047645  0.003112  0.191755   1.000000 -0.027305   \n",
       "FATIGUE                 0.097993 -0.048996 -0.005902  -0.027305  1.000000   \n",
       "PAINS                   0.081185 -0.010474  0.060148   0.052422  0.015797   \n",
       "ANOSMIA                 0.130204  0.011494  0.004159   0.070611 -0.007595   \n",
       "SHORTNESS_OF_BREATH    -0.031658 -0.016308 -0.123018  -0.080566 -0.045449   \n",
       "RUNNY_NOSE             -0.021785 -0.052529  0.010423   0.029718 -0.029837   \n",
       "HEADACHE               -0.105755 -0.062823  0.001083   0.019849  0.010381   \n",
       "DIARRHEA               -0.048191  0.017050  0.009738   0.020887  0.037218   \n",
       "CHILLS                  0.023023 -0.014599 -0.017796  -0.030242  0.033071   \n",
       "LIVES_IN_AFFECTED_AREA  0.016395 -0.022730 -0.068020   0.056511  0.007328   \n",
       "NAUSEA                  0.022586  0.025970 -0.020995   0.014351  0.008849   \n",
       "HIGH-TEMPERTURE        -0.000310  0.212699  0.187202  -0.030356 -0.016685   \n",
       "COVID19_OUTPUT          0.006081  0.013788  0.529185   0.218632  0.070014   \n",
       "\n",
       "                           PAINS   ANOSMIA  SHORTNESS_OF_BREATH  RUNNY_NOSE  \\\n",
       "AGE                     0.081185  0.130204            -0.031658   -0.021785   \n",
       "GENDER                 -0.010474  0.011494            -0.016308   -0.052529   \n",
       "FEVER                   0.060148  0.004159            -0.123018    0.010423   \n",
       "DRY-COUGH               0.052422  0.070611            -0.080566    0.029718   \n",
       "FATIGUE                 0.015797 -0.007595            -0.045449   -0.029837   \n",
       "PAINS                   1.000000  0.040673             0.014355    0.031633   \n",
       "ANOSMIA                 0.040673  1.000000            -0.042787   -0.043125   \n",
       "SHORTNESS_OF_BREATH     0.014355 -0.042787             1.000000   -0.046551   \n",
       "RUNNY_NOSE              0.031633 -0.043125            -0.046551    1.000000   \n",
       "HEADACHE               -0.009506 -0.040672            -0.047411    0.062148   \n",
       "DIARRHEA                0.023900  0.042957            -0.009285    0.146668   \n",
       "CHILLS                 -0.034958  0.020311            -0.022450   -0.040708   \n",
       "LIVES_IN_AFFECTED_AREA -0.030098 -0.048444            -0.093514   -0.005887   \n",
       "NAUSEA                 -0.005686 -0.009234            -0.034236    0.007113   \n",
       "HIGH-TEMPERTURE        -0.037240  0.066466             0.024829   -0.017605   \n",
       "COVID19_OUTPUT          0.057166  0.077812             0.016807    0.013413   \n",
       "\n",
       "                        HEADACHE  DIARRHEA    CHILLS  LIVES_IN_AFFECTED_AREA  \\\n",
       "AGE                    -0.105755 -0.048191  0.023023                0.016395   \n",
       "GENDER                 -0.062823  0.017050 -0.014599               -0.022730   \n",
       "FEVER                   0.001083  0.009738 -0.017796               -0.068020   \n",
       "DRY-COUGH               0.019849  0.020887 -0.030242                0.056511   \n",
       "FATIGUE                 0.010381  0.037218  0.033071                0.007328   \n",
       "PAINS                  -0.009506  0.023900 -0.034958               -0.030098   \n",
       "ANOSMIA                -0.040672  0.042957  0.020311               -0.048444   \n",
       "SHORTNESS_OF_BREATH    -0.047411 -0.009285 -0.022450               -0.093514   \n",
       "RUNNY_NOSE              0.062148  0.146668 -0.040708               -0.005887   \n",
       "HEADACHE                1.000000  0.015141  0.064801                0.052343   \n",
       "DIARRHEA                0.015141  1.000000  0.048589               -0.026456   \n",
       "CHILLS                  0.064801  0.048589  1.000000                0.049161   \n",
       "LIVES_IN_AFFECTED_AREA  0.052343 -0.026456  0.049161                1.000000   \n",
       "NAUSEA                  0.065870  0.125182  0.017500                0.083667   \n",
       "HIGH-TEMPERTURE        -0.030366  0.021379 -0.009769               -0.282833   \n",
       "COVID19_OUTPUT         -0.008681  0.044341  0.016038               -0.272482   \n",
       "\n",
       "                          NAUSEA  HIGH-TEMPERTURE  COVID19_OUTPUT  \n",
       "AGE                     0.022586        -0.000310        0.006081  \n",
       "GENDER                  0.025970         0.212699        0.013788  \n",
       "FEVER                  -0.020995         0.187202        0.529185  \n",
       "DRY-COUGH               0.014351        -0.030356        0.218632  \n",
       "FATIGUE                 0.008849        -0.016685        0.070014  \n",
       "PAINS                  -0.005686        -0.037240        0.057166  \n",
       "ANOSMIA                -0.009234         0.066466        0.077812  \n",
       "SHORTNESS_OF_BREATH    -0.034236         0.024829        0.016807  \n",
       "RUNNY_NOSE              0.007113        -0.017605        0.013413  \n",
       "HEADACHE                0.065870        -0.030366       -0.008681  \n",
       "DIARRHEA                0.125182         0.021379        0.044341  \n",
       "CHILLS                  0.017500        -0.009769        0.016038  \n",
       "LIVES_IN_AFFECTED_AREA  0.083667        -0.282833       -0.272482  \n",
       "NAUSEA                  1.000000        -0.006384       -0.066612  \n",
       "HIGH-TEMPERTURE        -0.006384         1.000000        0.302627  \n",
       "COVID19_OUTPUT         -0.066612         0.302627        1.000000  "
      ]
     },
     "execution_count": 7,
     "metadata": {},
     "output_type": "execute_result"
    }
   ],
   "source": [
    "corrMatrix = df.corr(method='spearman')\n",
    "df.corr()"
   ]
  },
  {
   "cell_type": "markdown",
   "metadata": {},
   "source": [
    "### Visual Representation of Confusion Matrix"
   ]
  },
  {
   "cell_type": "code",
   "execution_count": 8,
   "metadata": {
    "scrolled": true
   },
   "outputs": [
    {
     "data": {
      "image/png": "[encoded data removed]",
      "text/plain": [
       "<Figure size 432x288 with 2 Axes>"
      ]
     },
     "metadata": {
      "needs_background": "light"
     },
     "output_type": "display_data"
    }
   ],
   "source": [
    "sns.heatmap(corrMatrix,cmap = \"BrBG_r\" )\n",
    "plt.rcParams[\"figure.figsize\"] = [15,8]\n",
    "plt.show()"
   ]
  },
  {
   "cell_type": "markdown",
   "metadata": {},
   "source": [
    "### Visual Analysis of Common Symptoms"
   ]
  },
  {
   "cell_type": "code",
   "execution_count": 9,
   "metadata": {},
   "outputs": [
    {
     "data": {
      "image/png": "[encoded data removed]",
      "text/plain": [
       "<Figure size 1080x576 with 1 Axes>"
      ]
     },
     "metadata": {
      "needs_background": "light"
     },
     "output_type": "display_data"
    }
   ],
   "source": [
    "plt.clf()\n",
    "plt.rcParams[\"figure.figsize\"] = [10,5]\n",
    "df.groupby(['DRY-COUGH','FEVER','LIVES_IN_AFFECTED_AREA','HIGH-TEMPERTURE']).size().plot(kind='bar')\n",
    "plt.xlabel(\"\\n Possible Combinations of fever,dyr Cough,high temperture, lives in affaceted area \")\n",
    "plt.ylabel(\" Number of patients \\n\")\n",
    "plt.show()"
   ]
  },
  {
   "cell_type": "markdown",
   "metadata": {},
   "source": [
    "#### Seperating the independent and target variables"
   ]
  },
  {
   "cell_type": "code",
   "execution_count": 10,
   "metadata": {},
   "outputs": [],
   "source": [
    "X = df.iloc[:,0:15].values\n",
    "\n",
    "y = df.iloc[:,15].values"
   ]
  },
  {
   "cell_type": "markdown",
   "metadata": {},
   "source": [
    "#### Spliting the dataset into test and train"
   ]
  },
  {
   "cell_type": "code",
   "execution_count": 11,
   "metadata": {},
   "outputs": [],
   "source": [
    "from sklearn.model_selection import train_test_split\n",
    "X_train, X_test, y_train, y_test = train_test_split(X,y,test_size=0.20)"
   ]
  },
  {
   "cell_type": "markdown",
   "metadata": {},
   "source": [
    "#### Creating Different Models"
   ]
  },
  {
   "cell_type": "code",
   "execution_count": 12,
   "metadata": {},
   "outputs": [
    {
     "data": {
      "text/plain": [
       "LinearSVC(random_state=42)"
      ]
     },
     "execution_count": 12,
     "metadata": {},
     "output_type": "execute_result"
    }
   ],
   "source": [
    "rfc = RandomForestClassifier(n_estimators=15,random_state=42)\n",
    "dt = DecisionTreeClassifier(random_state=42)\n",
    "svr = LinearSVC(random_state=42)\n",
    "lr = LogisticRegression(random_state=42)\n",
    "#---------------------------\n",
    "lr.fit(X_train,y_train)\n",
    "rfc.fit(X_train,y_train)\n",
    "dt.fit(X_train,y_train)\n",
    "svr.fit(X_train,y_train)\n"
   ]
  },
  {
   "cell_type": "markdown",
   "metadata": {},
   "source": [
    "### Area Under Curve Analysis"
   ]
  },
  {
   "cell_type": "code",
   "execution_count": 13,
   "metadata": {},
   "outputs": [
    {
     "data": {
      "text/plain": [
       "<sklearn.metrics._plot.roc_curve.RocCurveDisplay at 0x7fec697688d0>"
      ]
     },
     "execution_count": 13,
     "metadata": {},
     "output_type": "execute_result"
    },
    {
     "data": {
      "image/png": "[encoded data removed]",
      "text/plain": [
       "<Figure size 720x360 with 1 Axes>"
      ]
     },
     "metadata": {
      "needs_background": "light"
     },
     "output_type": "display_data"
    }
   ],
   "source": [
    "plt.rcParams[\"figure.figsize\"] = [10,5]\n",
    "disp = plot_roc_curve(lr,X_test,y_test)\n",
    "plt.title(' Area Under Curve Analysis\\n')\n",
    "plot_roc_curve(dt,X_test,y_test,ax=disp.ax_)\n",
    "plot_roc_curve(rfc,X_test,y_test,ax=disp.ax_)\n",
    "plot_roc_curve(svr,X_test,y_test,ax=disp.ax_)\n"
   ]
  },
  {
   "cell_type": "markdown",
   "metadata": {},
   "source": [
    "\n",
    "#### Deliberation\n",
    "\n",
    "As LogisticRegression is having high AUC values among all the algorithms, so, the LR selected to make the predictions for the COVID-19 Infection Probability.\n",
    "\n",
    "**_data_input_**: List holding the values of the given symptoms and patient's attributes."
   ]
  },
  {
   "cell_type": "markdown",
   "metadata": {},
   "source": [
    "##### Case 1: Considering a male patient of 32years of age and having no symptoms at all"
   ]
  },
  {
   "cell_type": "code",
   "execution_count": 14,
   "metadata": {},
   "outputs": [
    {
     "name": "stdout",
     "output_type": "stream",
     "text": [
      "COVID19 Infection Probability: 14.6%\n"
     ]
    }
   ],
   "source": [
    "data_input = [32,1,0,0,0,0,0,0,0,0,0,0,0,0,0] \n",
    "result = (lr.predict_proba([data_input]))\n",
    "result = round(result[0][1]*100,2)\n",
    "print(f\"COVID19 Infection Probability: {result}%\")\n",
    "pickle.dump(lr, open(\"model.pkl\",\"wb+\"))"
   ]
  },
  {
   "cell_type": "markdown",
   "metadata": {},
   "source": [
    "##### Case 2: Considering a female patient of 67years of age and having fever,high temperture,dry cough,lives in affected area"
   ]
  },
  {
   "cell_type": "code",
   "execution_count": 15,
   "metadata": {
    "scrolled": true
   },
   "outputs": [
    {
     "name": "stdout",
     "output_type": "stream",
     "text": [
      "COVID19 Infection Probability: 38.08%\n"
     ]
    }
   ],
   "source": [
    "data_input = [67,0,0,1,1,0,0,0,0,0,0,0,1,0,1] \n",
    "result = (lr.predict_proba([data_input]))\n",
    "result = round(result[0][1]*100,2)\n",
    "print(f\"COVID19 Infection Probability: {result}%\")"
   ]
  },
  {
   "cell_type": "markdown",
   "metadata": {},
   "source": [
    "&nbsp;"
   ]
  }
 ],
 "metadata": {
  "kernelspec": {
   "display_name": "Python 3",
   "language": "python",
   "name": "python3"
  },
  "language_info": {
   "codemirror_mode": {
    "name": "ipython",
    "version": 3
   },
   "file_extension": ".py",
   "mimetype": "text/x-python",
   "name": "python",
   "nbconvert_exporter": "python",
   "pygments_lexer": "ipython3",
   "version": "3.7.3"
  }
 },
 "nbformat": 4,
 "nbformat_minor": 4
}
